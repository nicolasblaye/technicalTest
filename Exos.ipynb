{
 "cells": [
  {
   "cell_type": "markdown",
   "metadata": {},
   "source": [
    "# Technical Interview\n",
    "\n",
    "This document presents notes and codes about 3 exercices. The code will be in python 2, the data is given in a separate csv (too big for github).\n",
    "\n",
    "The data were extract from two compressed files. The files were corrupt so I had to use `bzip2recover` to uncompress them."
   ]
  },
  {
   "cell_type": "markdown",
   "metadata": {},
   "source": [
    "## Exercise 1\n",
    "\n",
    "### Task: count the number of lines in Python for each file\n",
    "\n",
    "We use a csv reader to iterate over the whole file, using a small counter to count the number of (not empty) lines.\n",
    "Reading the whole file with `f.read()` won't work because of the size of the files.\n",
    "We found 20390199 lines for **searches.csv** and 10000011 lines for **bookings.csv**"
   ]
  },
  {
   "cell_type": "code",
   "execution_count": 8,
   "metadata": {
    "collapsed": false
   },
   "outputs": [
    {
     "name": "stdout",
     "output_type": "stream",
     "text": [
      "nb_searches = 20390199 lines\n",
      "nb_bookings = 10000011 lines\n"
     ]
    }
   ],
   "source": [
    "import csv\n",
    "\n",
    "with open(\"./data/searches.csv\",\"r\") as f:\n",
    "    reader = csv.reader(f,delimiter=\"^\")\n",
    "    i = 0\n",
    "    for row in reader:\n",
    "        if row!=\"\\n\" and row!=\"\":\n",
    "            i +=1\n",
    "    print \"nb_searches = %d lines\"%i\n",
    "with open(\"./data/bookings.csv\",\"r\") as f:\n",
    "    reader = csv.reader(f,delimiter=\"^\")\n",
    "    i = 0\n",
    "    for row in reader:\n",
    "        if row!=\"\\n\" and row!=\"\":\n",
    "            i +=1\n",
    "    print \"nb_bookings = %d lines\"%i"
   ]
  },
  {
   "cell_type": "markdown",
   "metadata": {},
   "source": [
    "## Exercise 2\n",
    "\n",
    "### Task: top 10 arrival airports in the world in 2013 (using the bookings file)\n",
    "\n",
    "We use a smaller version of bookings.csv for testing. That way,  we can open it with *libre office* to better understand the data and also make faster test. To make this file, we use `head` function and redirect the result to **bookings_head.csv**.\n",
    "    First, we map all the flight where duration + off time is prior to 2014. Then, we reduce all the previous result by adding the pax column and we get the first ten airports. At last, we use GeoBase to get the name of the airport.\n",
    "We find "
   ]
  },
  {
   "cell_type": "code",
   "execution_count": null,
   "metadata": {
    "collapsed": false
   },
   "outputs": [],
   "source": [
    "import pandas as pd\n",
    "import numpy as np\n",
    "from GeoBases import GeoBase\n",
    "\n",
    "\n",
    "#reading the csv_file\n",
    "data = pd.read_csv(\"./data/bookings.csv\", delimiter=\"^\")\n",
    "\n",
    "# convert off_time column from string to timestamp\n",
    "off_time = data['off_time           ']\n",
    "off_time = pd.to_datetime(off_time)\n",
    "off_time = off_time.astype(np.int64)\n",
    "\n",
    "\n",
    "# filter the column where duration + off_time < 2014 and off_time+duration >= 2013\n",
    "arrival = pd.to_datetime(off_time+data['duration'])\n",
    "data = data[arrival < pd.to_datetime(\"2014-1-1\")]\n",
    "data = data[arrival >= pd.to_datetime(\"2013-1-1\")]\n",
    "\n",
    "# group the number of passenger by airport name\n",
    "arrival = data.groupby('arr_port').sum()\n",
    "\n",
    "best_arr_port = arrival['pax'].nlargest(10)\n",
    "\n",
    "# use geobase to get the name of the airports\n",
    "geo_a = GeoBase(data='airports', verbose=False)\n",
    "result = []\n",
    "for row in best_arr_port.iteritems():\n",
    "    name = geo_a.get(row[0].strip(),\"name\")\n",
    "    result.append((row[0],name, row[1]))\n",
    "\n",
    "print pd.DataFrame(result,columns=['arr_port_code','arr_port_name','pax'])"
   ]
  },
  {
   "cell_type": "code",
   "execution_count": null,
   "metadata": {
    "collapsed": true
   },
   "outputs": [],
   "source": []
  }
 ],
 "metadata": {
  "kernelspec": {
   "display_name": "Python 2",
   "language": "python",
   "name": "python2"
  },
  "language_info": {
   "codemirror_mode": {
    "name": "ipython",
    "version": 2
   },
   "file_extension": ".py",
   "mimetype": "text/x-python",
   "name": "python",
   "nbconvert_exporter": "python",
   "pygments_lexer": "ipython2",
   "version": "2.7.6"
  }
 },
 "nbformat": 4,
 "nbformat_minor": 0
}
