{
 "cells": [
  {
   "cell_type": "markdown",
   "metadata": {},
   "source": [
    "# Technical Interview\n",
    "\n",
    "This document presents notes and codes about 3 exercices. The code will be in python 2, the data is given in a separate csv (too big for github).\n",
    "\n",
    "The data were extract from two compressed files. The files were corrupt so I had to use `bzip2recover` to uncompress them."
   ]
  },
  {
   "cell_type": "markdown",
   "metadata": {},
   "source": [
    "## Exercise 1\n",
    "\n",
    "### Task: count the number of lines in Python for each file\n",
    "\n",
    "We use a csv reader to iterate over the whole file, using a small counter to count the number of (not empty) lines.\n",
    "Reading the whole file with `f.read()` won't work because of the size of the files."
   ]
  },
  {
   "cell_type": "code",
   "execution_count": null,
   "metadata": {
    "collapsed": false
   },
   "outputs": [],
   "source": [
    "import csv\n",
    "\n",
    "with open(\"./data/searches.csv\",\"r\") as f:\n",
    "    reader = csv.reader(f,delimiter=\"^\")\n",
    "    i = 0\n",
    "    for row in reader:\n",
    "        if row!=\"\\n\" and row!=\"\":\n",
    "            i +=1\n",
    "    print \"nb_searches = %d\"%i\n",
    "with open(\"./data/bookings.csv\",\"r\") as f:\n",
    "    reader = csv.reader(f,delimiter=\"^\")\n",
    "    i = 0\n",
    "    for row in reader:\n",
    "        if row!=\"\\n\" and row!=\"\":\n",
    "            i +=1\n",
    "    print \"nb_bookings = %d\"%i"
   ]
  },
  {
   "cell_type": "markdown",
   "metadata": {},
   "source": []
  }
 ],
 "metadata": {
  "kernelspec": {
   "display_name": "Python 2",
   "language": "python",
   "name": "python2"
  },
  "language_info": {
   "codemirror_mode": {
    "name": "ipython",
    "version": 2
   },
   "file_extension": ".py",
   "mimetype": "text/x-python",
   "name": "python",
   "nbconvert_exporter": "python",
   "pygments_lexer": "ipython2",
   "version": "2.7.6"
  }
 },
 "nbformat": 4,
 "nbformat_minor": 0
}
