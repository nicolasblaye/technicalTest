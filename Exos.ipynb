{
 "cells": [
  {
   "cell_type": "markdown",
   "metadata": {},
   "source": [
    "# Technical Interview\n",
    "\n",
    "This document presents notes and codes about 3 exercices. The code will be in python 2, the data is given in a separate csv (too big for github).\n",
    "\n",
    "The data were extract from two compressed files. The files were corrupted so I had to use `bzip2recover` to uncompress them."
   ]
  },
  {
   "cell_type": "markdown",
   "metadata": {},
   "source": [
    "## Exercise 1\n",
    "\n",
    "### Task: count the number of lines in Python for each file\n",
    "\n",
    "We use a csv reader to iterate over the whole file, using a small counter to count the number of (not empty) lines.\n",
    "Reading the whole file with `f.read()` won't work because of the size of the files.\n",
    "We found 20 390 199 lines for **searches.csv** and 10 000 011 lines for **bookings.csv**"
   ]
  },
  {
   "cell_type": "code",
   "execution_count": 8,
   "metadata": {
    "collapsed": false
   },
   "outputs": [
    {
     "name": "stdout",
     "output_type": "stream",
     "text": [
      "nb_searches = 20390199 lines\n",
      "nb_bookings = 10000011 lines\n"
     ]
    }
   ],
   "source": [
    "import csv\n",
    "\n",
    "with open(\"./data/searches.csv\",\"r\") as f:\n",
    "    reader = csv.reader(f,delimiter=\"^\")\n",
    "    i = 0\n",
    "    for row in reader:\n",
    "        if row!=\"\\n\" and row!=\"\":\n",
    "            i +=1\n",
    "    print \"nb_searches = %d lines\"%i\n",
    "with open(\"./data/bookings.csv\",\"r\") as f:\n",
    "    reader = csv.reader(f,delimiter=\"^\")\n",
    "    i = 0\n",
    "    for row in reader:\n",
    "        if row!=\"\\n\" and row!=\"\":\n",
    "            i +=1\n",
    "    print \"nb_bookings = %d lines\"%i"
   ]
  },
  {
   "cell_type": "markdown",
   "metadata": {},
   "source": [
    "## Exercise 2\n",
    "\n",
    "### Task: top 10 arrival airports in the world in 2013 (using the bookings file)\n",
    "\n",
    "We use a smaller version of bookings.csv for testing. That way,  we can open it with *libre office* to better understand the data and also make faster test. To make this file, we use `head` function and redirect the result to **bookings_head.csv**.  \n",
    "First, we map all the flight where `duration + off time` is prior to 2014 and after 2012. Then, we reduce all the previous result by adding the pax column and we get the first ten airports. At last, we use **GeoBase** to get the name of the airport.  \n",
    "We find that we need to chunk the file, aggregate the data by airport, then merge the results.\n",
    "There was a null value on one column, so we use `dropna` to drop any row that does not have information on `arr_port`, `pax`, `off_time` or `duration`.  \n",
    "There are still values that cannot be interpreted. It is because we can have a string instead of an int in `duration` (like 'NRT') and also some float that can not be interpreted as float because it has a floating commas intead of the standart point. We handle that by adding NRT to the na_values, and by setting the commas as a decimal separator.  \n",
    "  \n",
    "| rank |  arr_port_code |         arr_port_name       |  pax |\n",
    "|------|:--------------:|:---------------------------:|------|\n",
    "|0     | LHR            | London Heathrow Airport     | 81439.0|\n",
    "|1      |LAX          |Los Angeles International Airport | 64230.0|\n",
    "|2      |LAS           |  McCarran International Airport | 63190.0|\n",
    "|3      |MCO            |  Orlando International Airport | 62290.0|\n",
    "|4      |JFK       |John F Kennedy International Airport | 60060.0|\n",
    "|5      |CDG        |          Paris - Charles-de-Gaulle | 58080.0|\n",
    "|6      |SFO        |San Francisco International Airport | 53710.0|\n",
    "|7      |MIA         |       Miami International Airport | 53020.0|\n",
    "|8      |BKK          |                     Suvarnabhumi | 52660.0|\n",
    "|9      |DXB           |     Dubai International Airport | 52230.0|"
   ]
  },
  {
   "cell_type": "code",
   "execution_count": 79,
   "metadata": {
    "collapsed": false
   },
   "outputs": [
    {
     "name": "stderr",
     "output_type": "stream",
     "text": [
      "/usr/local/lib/python2.7/dist-packages/ipykernel/__main__.py:22: UserWarning: Boolean Series key will be reindexed to match DataFrame index.\n"
     ]
    },
    {
     "name": "stdout",
     "output_type": "stream",
     "text": [
      "  arr_port_code                         arr_port_name      pax\n",
      "0      LHR                    London Heathrow Airport  81439.0\n",
      "1      LAX          Los Angeles International Airport  64230.0\n",
      "2      LAS             McCarran International Airport  63190.0\n",
      "3      MCO              Orlando International Airport  62290.0\n",
      "4      JFK       John F Kennedy International Airport  60060.0\n",
      "5      CDG                  Paris - Charles-de-Gaulle  58080.0\n",
      "6      SFO        San Francisco International Airport  53710.0\n",
      "7      MIA                Miami International Airport  53020.0\n",
      "8      BKK                               Suvarnabhumi  52660.0\n",
      "9      DXB                Dubai International Airport  52230.0\n"
     ]
    }
   ],
   "source": [
    "import pandas as pd\n",
    "import numpy as np\n",
    "from GeoBases import GeoBase\n",
    "\n",
    "def process(chunk):\n",
    "    \n",
    "    # take the useful columns\n",
    "    data = chunk[['arr_port','pax','off_time           ','duration']]\n",
    "    \n",
    "    # supress NaN rows and change ',' to '.' for float conversion\n",
    "    data = data.dropna()\n",
    "    \n",
    "    # convert off_time column from string to datetime\n",
    "    off_time = data['off_time           ']\n",
    "    off_time = pd.to_datetime(off_time)\n",
    "    off_time = off_time.astype(np.int64)\n",
    "\n",
    "\n",
    "    # filter the column where duration + off_time < 2014 and off_time+duration >= 2013\n",
    "    arrival = pd.to_datetime(off_time+data['duration'])\n",
    "    data = data[arrival < pd.to_datetime(\"2014-1-1\")]\n",
    "    data = data[arrival >= pd.to_datetime(\"2013-1-1\")]\n",
    "\n",
    "    # group the number of passenger by airport name\n",
    "    arrival = data.groupby('arr_port').sum()    \n",
    "    return arrival\n",
    "            \n",
    "arr_data = dict() \n",
    "#processing the csv_file in chunks\n",
    "chunksize = 10 ** 3\n",
    "i = 0\n",
    "for chunk in pd.read_csv(\"./data/bookings.csv\", delimiter=\"^\", iterator=True, chunksize=chunksize,\n",
    "                        na_values = ['NRT     '], decimal=\",\"):\n",
    "    data = process(chunk)\n",
    "    for key,value in data['pax'].iteritems():\n",
    "        if key not in arr_data:\n",
    "            arr_data[key] = 0\n",
    "        arr_data[key] += value\n",
    "\n",
    "# order the result in a list of tuple\n",
    "arr_data = sorted(arr_data.items(), key=lambda x:x[1], reverse = True)\n",
    "\n",
    "# use geobase to get the name of the 10 best airports\n",
    "geo_a = GeoBase(data='airports', verbose=False)\n",
    "result = []\n",
    "for i in range(10):  \n",
    "    name = geo_a.get(arr_data[i][0].strip(),\"name\")\n",
    "    result.append((arr_data[i][0],name, arr_data[i][1]))\n",
    "\n",
    "print pd.DataFrame(result,columns=['arr_port_code','arr_port_name','pax'])"
   ]
  },
  {
   "cell_type": "markdown",
   "metadata": {
    "collapsed": true
   },
   "source": [
    "## Exercise 3\n",
    "\n",
    "### Task: plot the monthly number of searches for flights arriving at Málaga, Madrid or Barcelona\n",
    "\n",
    "We then again use a smaller version of searches.csv to make our base functions work. Then we chunk the file to first map the wanted destination and reduce it to reduce memory usage.  \n",
    "1. Malaga airport is **AGP**  \n",
    "2. Madrid airport is **MAD **   \n",
    "3. Barcelona airport is **BCN**  \n",
    "  \n",
    "Running a small script, we found that all the data are in 2013, so we are going to plot the data for every month in 2013.  "
   ]
  },
  {
   "cell_type": "code",
   "execution_count": 3,
   "metadata": {
    "collapsed": false
   },
   "outputs": [
    {
     "data": {
      "text/plain": [
       "<matplotlib.axes._subplots.AxesSubplot at 0x7f43ca5b94d0>"
      ]
     },
     "execution_count": 3,
     "metadata": {},
     "output_type": "execute_result"
    },
    {
     "data": {
      "image/png": "[encoded data removed]",
      "text/plain": [
       "<matplotlib.figure.Figure at 0x7f43cb6ce110>"
      ]
     },
     "metadata": {},
     "output_type": "display_data"
    }
   ],
   "source": [
    "import pandas as pd\n",
    "%matplotlib inline\n",
    "import matplotlib.pyplot as plt\n",
    "\n",
    "# prepare dataframe for plot\n",
    "rng = pd.date_range(\"1/2013\",periods=12, freq='M')\n",
    "ts = pd.DataFrame([[0 for i in range(3)] for i in range(12)], index=rng, columns=['MAD', 'BCN', 'AGP'])\n",
    "\n",
    "def process(chunk):\n",
    "    # we keep only destination, date\n",
    "    dt = chunk[['Destination','Date']]\n",
    "    \n",
    "    # Filter by arr_code\n",
    "    is_BCN = dt['Destination'] == \"BCN\"\n",
    "    is_MAD = dt['Destination'] == \"MAD\"\n",
    "    is_AGP = dt['Destination'] == \"AGP\"\n",
    "    dt = dt[is_AGP|is_BCN|is_MAD]\n",
    "    \n",
    "    # add the result to the time series\n",
    "    for row in dt.iterrows():\n",
    "        destination = row[1]['Destination']\n",
    "        month = int(row[1]['Date'].split(\"-\")[1])\n",
    "        ts[destination][month-1] += 1\n",
    "    \n",
    "chunksize = 10 ** 3\n",
    "for chunk in pd.read_csv(\"./data/searches.csv\",delimiter=\"^\", iterator=True, chunksize = chunksize):\n",
    "    process(chunk)\n",
    "\n",
    "# plot the result\n",
    "ts.plot()"
   ]
  },
  {
   "cell_type": "markdown",
   "metadata": {
    "collapsed": true
   },
   "source": [
    "## Bonus Exercise\n",
    "  \n",
    "### Task: write a Web Service\n",
    "  \n",
    "To write it, we will use the code of exercise 2. Because the computation time is very high, we are going to store all the result for all the airpot in a text file using pickle. (We could use a **MongoDB** DataBase to enable fast query instead of reloading the results every times.  \n",
    "\n",
    "For the web service, we will use **flask**. It doesn't seem like we can test it on jupyter, but it worked on console."
   ]
  },
  {
   "cell_type": "code",
   "execution_count": 14,
   "metadata": {
    "collapsed": false,
    "scrolled": true
   },
   "outputs": [
    {
     "name": "stderr",
     "output_type": "stream",
     "text": [
      "/usr/local/lib/python2.7/dist-packages/ipykernel/__main__.py:23: UserWarning: Boolean Series key will be reindexed to match DataFrame index.\n"
     ]
    }
   ],
   "source": [
    "# code from the 2nd exercise, store result using pickle\n",
    "import pandas as pd\n",
    "import numpy as np\n",
    "from GeoBases import GeoBase\n",
    "import pickle\n",
    "\n",
    "def process(chunk):\n",
    "    # take the useful columns\n",
    "    data = chunk[['arr_port','pax','off_time           ','duration']]\n",
    "    \n",
    "    # supress NaN rows and change ',' to '.' for float conversion\n",
    "    data = data.dropna()\n",
    "    \n",
    "    # convert off_time column from string to datetime\n",
    "    off_time = data['off_time           ']\n",
    "    off_time = pd.to_datetime(off_time)\n",
    "    off_time = off_time.astype(np.int64)\n",
    "\n",
    "\n",
    "    # filter the column where duration + off_time < 2014 and off_time+duration >= 2013\n",
    "    arrival = pd.to_datetime(off_time+data['duration'])\n",
    "    data = data[arrival < pd.to_datetime(\"2014-1-1\")]\n",
    "    data = data[arrival >= pd.to_datetime(\"2013-1-1\")]\n",
    "\n",
    "    # group the number of passenger by airport name\n",
    "    arrival = data.groupby('arr_port').sum()    \n",
    "    return arrival\n",
    "            \n",
    "arr_data = dict() \n",
    "#processing the csv_file in chunks\n",
    "chunksize = 10 ** 3\n",
    "i = 0\n",
    "for chunk in pd.read_csv(\"./data/bookings.csv\", delimiter=\"^\", iterator=True, chunksize=chunksize,\n",
    "                        na_values = ['NRT     '], decimal=\",\"):\n",
    "    data = process(chunk)\n",
    "    for key,value in data['pax'].iteritems():\n",
    "        if key not in arr_data:\n",
    "            arr_data[key] = 0\n",
    "        arr_data[key] += value\n",
    "\n",
    "# order the result in a list of tuple\n",
    "arr_data = sorted(arr_data.items(), key=lambda x:x[1], reverse = True)\n",
    "\n",
    "# use geobase to get the name of the airports\n",
    "geo_a = GeoBase(data='airports', verbose=False)\n",
    "# we compute the results adding the airpport name for all the airport and store it in a list\n",
    "result = []\n",
    "for arr in arr_data:   \n",
    "    try:\n",
    "        name = geo_a.get(arr[0].strip(),\"name\")\n",
    "    except KeyError:\n",
    "        name = \"Not Found\"\n",
    "    result.append((arr[0],name, arr[1]))\n",
    "\n",
    "with open(\"./data/results.txt\",\"w\") as f:\n",
    "    pickle.dump(result, f)\n"
   ]
  },
  {
   "cell_type": "code",
   "execution_count": 16,
   "metadata": {
    "collapsed": false,
    "scrolled": true
   },
   "outputs": [
    {
     "ename": "SystemExit",
     "evalue": "1",
     "output_type": "error",
     "traceback": [
      "An exception has occurred, use %tb to see the full traceback.\n",
      "\u001b[1;31mSystemExit\u001b[0m\u001b[1;31m:\u001b[0m 1\n"
     ]
    },
    {
     "name": "stderr",
     "output_type": "stream",
     "text": [
      "To exit: use 'exit', 'quit', or Ctrl-D.\n"
     ]
    }
   ],
   "source": [
    "# web service that use results.txt to send JSON\n",
    "# query /airport/{i} where i is an integer to get the i best airports\n",
    "import pickle\n",
    "from flask import Flask, jsonify, abort\n",
    "\n",
    "app = Flask(__name__)\n",
    "\n",
    "@app.route('/airports/<int:n_best>', methods=['GET'])\n",
    "def getNBest(n_best):\n",
    "    with open(\"./data/results.txt\",\"r\") as f:\n",
    "        result = pickle.load(f)\n",
    "        airports = []\n",
    "        if n_best>0:\n",
    "            if n_best < len(result):\n",
    "                for i in range(n_best):\n",
    "                    airports.append({\n",
    "                        'rank' : i+1,\n",
    "                        'arr_code' : result[i][0],\n",
    "                        'arr_name' : result[i][1],\n",
    "                        'pax' : result[i][2]\n",
    "                    })\n",
    "            else:\n",
    "                for i in range(len(result)):\n",
    "                    airport.append({\n",
    "                        'rank' : i+1,\n",
    "                        'arr_code' : result[i][0],\n",
    "                        'arr_name' : result[i][1],\n",
    "                        'pax' : result[i][2]\n",
    "                    })\n",
    "        else:\n",
    "            # Bad Request (if n =0)\n",
    "            abort(400)\n",
    "        return jsonify({'airports': airports})\n",
    "\n",
    "if __name__ == '__main__':\n",
    "    app.run(debug=True, port= 15000)\n"
   ]
  },
  {
   "cell_type": "markdown",
   "metadata": {},
   "source": [
    "## Bonus Exercise\n",
    "\n",
    "### Task: match searches with bookings\n",
    "\n"
   ]
  },
  {
   "cell_type": "code",
   "execution_count": null,
   "metadata": {
    "collapsed": true
   },
   "outputs": [],
   "source": []
  }
 ],
 "metadata": {
  "kernelspec": {
   "display_name": "Python 2",
   "language": "python",
   "name": "python2"
  },
  "language_info": {
   "codemirror_mode": {
    "name": "ipython",
    "version": 2
   },
   "file_extension": ".py",
   "mimetype": "text/x-python",
   "name": "python",
   "nbconvert_exporter": "python",
   "pygments_lexer": "ipython2",
   "version": "2.7.6"
  }
 },
 "nbformat": 4,
 "nbformat_minor": 0
}
